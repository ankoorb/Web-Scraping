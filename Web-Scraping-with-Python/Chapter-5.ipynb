{
 "cells": [
  {
   "cell_type": "markdown",
   "metadata": {},
   "source": [
    "### Storing Data"
   ]
  },
  {
   "cell_type": "code",
   "execution_count": 1,
   "metadata": {
    "collapsed": false
   },
   "outputs": [
    {
     "data": {
      "text/plain": [
       "('logo.jpg', <httplib.HTTPMessage instance at 0x1044a8e60>)"
      ]
     },
     "execution_count": 1,
     "metadata": {},
     "output_type": "execute_result"
    }
   ],
   "source": [
    "# Download and store an image\n",
    "\n",
    "import urllib # imported to use \"urlretrieve\": https://docs.python.org/2/library/urllib.html\n",
    "import urllib2\n",
    "from bs4 import BeautifulSoup\n",
    "\n",
    "url = 'http://www.pythonscraping.com'\n",
    "html = urllib2.urlopen(url)\n",
    "bsObj = BeautifulSoup(html)\n",
    "imageLocation = bsObj.find('a', {'id':'logo'}).find('img')['src']\n",
    "\n",
    "# Downloads the logo from http://www.pythonscraping.com and stores it as logo.jpg in the file directory\n",
    "urllib.urlretrieve(imageLocation, 'logo.jpg') # Copy a network object denoted by a URL to a local file"
   ]
  },
  {
   "cell_type": "code",
   "execution_count": 2,
   "metadata": {
    "collapsed": false
   },
   "outputs": [
    {
     "name": "stdout",
     "output_type": "stream",
     "text": [
      "http://pythonscraping.com/misc/jquery.js?v=1.4.4\n",
      "http://pythonscraping.com/misc/jquery.once.js?v=1.2\n",
      "http://pythonscraping.com/misc/drupal.js?nhx1dd\n",
      "http://pythonscraping.com/sites/all/themes/skeletontheme/js/jquery.mobilemenu.js?nhx1dd\n",
      "http://pythonscraping.com/sites/all/modules/google_analytics/googleanalytics.js?nhx1dd\n",
      "http://pythonscraping.com/sites/default/files/lrg_0.jpg\n",
      "http://pythonscraping.com/img/lrg%20(1).jpg\n"
     ]
    },
    {
     "data": {
      "text/plain": [
       "('downloaded/img/lrg%20(1).jpg', <httplib.HTTPMessage instance at 0x1047eb8c0>)"
      ]
     },
     "execution_count": 2,
     "metadata": {},
     "output_type": "execute_result"
    }
   ],
   "source": [
    "## getPageMedia.py\n",
    "\n",
    "import os\n",
    "# os module acts as an interface between Python and the operating system, \n",
    "# allowing it to manipulate file paths, create directories, get information \n",
    "# about running processes and environ‐ ment variables, and many other useful things.\n",
    "import urllib # imported to use \"urlretrieve\": https://docs.python.org/2/library/urllib.html\n",
    "import urllib2\n",
    "from bs4 import BeautifulSoup\n",
    "\n",
    "downloadDirectory = 'downloaded'\n",
    "baseUrl = 'http://pythonscraping.com'\n",
    "\n",
    "def getAbsoluteURL(baseUrl, source):\n",
    "    if source.startswith('http://www.'):\n",
    "        url = 'http://' + source[11:]\n",
    "    elif source.startswith('http://'):\n",
    "        url = source\n",
    "    elif source.startswith('www.'):\n",
    "        # url = source[4:] # This is not needed\n",
    "        url = 'http://' + source\n",
    "    else:\n",
    "        url = baseUrl + '/' + source\n",
    "    if baseUrl not in url:\n",
    "        return None\n",
    "    return url\n",
    "\n",
    "def getDownloadPath(baseUrl, absoluteUrl, downloadDirectory):\n",
    "    path = absoluteUrl.replace('www.', '')\n",
    "    path = path.replace(baseUrl, '')\n",
    "    path = downloadDirectory + path\n",
    "    directory = os.path.dirname(path)\n",
    "    \n",
    "    if not os.path.exists(directory):\n",
    "        os.makedirs(directory)\n",
    "        \n",
    "    return path\n",
    "\n",
    "html = urllib2.urlopen(baseUrl)\n",
    "bsObj = BeautifulSoup(html)\n",
    "downloadList = bsObj.findAll(src = True) # Find all tags with src attribute\n",
    "\n",
    "for download in downloadList:\n",
    "    fileUrl = getAbsoluteURL(baseUrl, download['src'])\n",
    "    if fileUrl is not None:\n",
    "        print fileUrl\n",
    "        \n",
    "urllib.urlretrieve(fileUrl, getDownloadPath(baseUrl, fileUrl, downloadDirectory))"
   ]
  },
  {
   "cell_type": "code",
   "execution_count": 3,
   "metadata": {
    "collapsed": false
   },
   "outputs": [
    {
     "name": "stdout",
     "output_type": "stream",
     "text": [
      "[<script src=\"http://pythonscraping.com/misc/jquery.js?v=1.4.4\" type=\"text/javascript\"></script>, <script src=\"http://pythonscraping.com/misc/jquery.once.js?v=1.2\" type=\"text/javascript\"></script>, <script src=\"http://pythonscraping.com/misc/drupal.js?nhx1dd\" type=\"text/javascript\"></script>, <script src=\"http://pythonscraping.com/sites/all/themes/skeletontheme/js/jquery.mobilemenu.js?nhx1dd\" type=\"text/javascript\"></script>, <script src=\"http://pythonscraping.com/sites/all/modules/google_analytics/googleanalytics.js?nhx1dd\" type=\"text/javascript\"></script>, <img alt=\"Home\" src=\"http://pythonscraping.com/sites/default/files/lrg_0.jpg\"/>, <iframe frameborder=\"0\" height=\"500px\" scrolling=\"no\" src=\"http://www.oreilly.com/authors/widgets/669.html\" width=\"200px\"></iframe>, <img alt=\"\" src=\"http://pythonscraping.com/img/lrg%20(1).jpg\" style=\"height:394px; width:300px\"/>]\n",
      "-------------------------------------------------\n",
      "http://pythonscraping.com/misc/jquery.js?v=1.4.4\n",
      "http://pythonscraping.com/misc/jquery.once.js?v=1.2\n",
      "http://pythonscraping.com/misc/drupal.js?nhx1dd\n",
      "http://pythonscraping.com/sites/all/themes/skeletontheme/js/jquery.mobilemenu.js?nhx1dd\n",
      "http://pythonscraping.com/sites/all/modules/google_analytics/googleanalytics.js?nhx1dd\n",
      "http://pythonscraping.com/sites/default/files/lrg_0.jpg\n",
      "http://www.oreilly.com/authors/widgets/669.html\n",
      "http://pythonscraping.com/img/lrg%20(1).jpg\n",
      "-------------------------------------------------\n",
      "oreilly.com/authors/widgets/669.html\n",
      "-------------------------------------------------\n",
      "formula1.com/\n",
      "-------------------------------------------------\n",
      "http://oreilly.com/authors/widgets/669.html\n",
      "-------------------------------------------------\n",
      "http://docs.python.org\n",
      "-------------------------------------------------\n",
      "formula1.com/\n",
      "-------------------------------------------------\n",
      "http://www.formula1.com/\n"
     ]
    }
   ],
   "source": [
    "print bsObj.findAll(src = True) # list of all src\n",
    "\n",
    "print '-------------------------------------------------'\n",
    "\n",
    "temp = bsObj.findAll(src = True)\n",
    "for i in temp:\n",
    "    print i['src']\n",
    "    \n",
    "print '-------------------------------------------------'\n",
    "    \n",
    "baseUrl = 'http://pythonscraping.com'\n",
    "source = ['http://www.oreilly.com/authors/widgets/669.html', 'http://docs.python.org', 'www.formula1.com/']\n",
    "print source[0][11:]\n",
    "print '-------------------------------------------------'\n",
    "print source[2][4:]\n",
    "print '-------------------------------------------------'\n",
    "\n",
    "if source[0].startswith('http://www.'):\n",
    "    print 'http://' + source[0][11:]\n",
    "print '-------------------------------------------------'\n",
    "    \n",
    "if source[1].startswith('http://'):\n",
    "    url = source[1]\n",
    "    print url\n",
    "print '-------------------------------------------------'\n",
    "    \n",
    "if source[2].startswith('www.'):\n",
    "    url = source[2][4:]\n",
    "    print url\n",
    "    print '-------------------------------------------------'\n",
    "    url = 'http://' + source[2]\n",
    "    print url"
   ]
  },
  {
   "cell_type": "markdown",
   "metadata": {},
   "source": [
    "**Storing Data to CSV**"
   ]
  },
  {
   "cell_type": "code",
   "execution_count": 4,
   "metadata": {
    "collapsed": false
   },
   "outputs": [],
   "source": [
    "# createCsv.py\n",
    "import csv\n",
    "import os\n",
    "\n",
    "directory = 'csv'\n",
    "csvFile = open('test.csv', 'w+')\n",
    "try:\n",
    "    writer = csv.writer(csvFile)\n",
    "    writer.writerow(('number', 'number plus 2', 'number times 2'))\n",
    "    for i in range(100):\n",
    "        writer.writerow((i, i+2, i*2))\n",
    "finally:\n",
    "    csvFile.close()"
   ]
  },
  {
   "cell_type": "code",
   "execution_count": 5,
   "metadata": {
    "collapsed": false
   },
   "outputs": [
    {
     "ename": "UnicodeEncodeError",
     "evalue": "'ascii' codec can't encode character u'\\xf6' in position 9: ordinal not in range(128)",
     "output_type": "error",
     "traceback": [
      "\u001b[0;31m---------------------------------------------------------------------------\u001b[0m",
      "\u001b[0;31mUnicodeEncodeError\u001b[0m                        Traceback (most recent call last)",
      "\u001b[0;32m<ipython-input-5-0ef05a81e273>\u001b[0m in \u001b[0;36m<module>\u001b[0;34m()\u001b[0m\n\u001b[1;32m     18\u001b[0m         \u001b[0;32mfor\u001b[0m \u001b[0mcell\u001b[0m \u001b[0;32min\u001b[0m \u001b[0mrow\u001b[0m\u001b[0;34m.\u001b[0m\u001b[0mfindAll\u001b[0m\u001b[0;34m(\u001b[0m\u001b[0;34m[\u001b[0m\u001b[0;34m'td'\u001b[0m\u001b[0;34m,\u001b[0m \u001b[0;34m'th'\u001b[0m\u001b[0;34m]\u001b[0m\u001b[0;34m)\u001b[0m\u001b[0;34m:\u001b[0m\u001b[0;34m\u001b[0m\u001b[0m\n\u001b[1;32m     19\u001b[0m             \u001b[0mcsvRow\u001b[0m\u001b[0;34m.\u001b[0m\u001b[0mappend\u001b[0m\u001b[0;34m(\u001b[0m\u001b[0mcell\u001b[0m\u001b[0;34m.\u001b[0m\u001b[0mget_text\u001b[0m\u001b[0;34m(\u001b[0m\u001b[0;34m)\u001b[0m\u001b[0;34m)\u001b[0m\u001b[0;34m\u001b[0m\u001b[0m\n\u001b[0;32m---> 20\u001b[0;31m             \u001b[0mwriter\u001b[0m\u001b[0;34m.\u001b[0m\u001b[0mwriterow\u001b[0m\u001b[0;34m(\u001b[0m\u001b[0mcsvRow\u001b[0m\u001b[0;34m)\u001b[0m\u001b[0;34m\u001b[0m\u001b[0m\n\u001b[0m\u001b[1;32m     21\u001b[0m \u001b[0;32mfinally\u001b[0m\u001b[0;34m:\u001b[0m\u001b[0;34m\u001b[0m\u001b[0m\n\u001b[1;32m     22\u001b[0m     \u001b[0mcsvFile\u001b[0m\u001b[0;34m.\u001b[0m\u001b[0mclose\u001b[0m\u001b[0;34m(\u001b[0m\u001b[0;34m)\u001b[0m\u001b[0;34m\u001b[0m\u001b[0m\n",
      "\u001b[0;31mUnicodeEncodeError\u001b[0m: 'ascii' codec can't encode character u'\\xf6' in position 9: ordinal not in range(128)"
     ]
    }
   ],
   "source": [
    "# scrapeCsv.py\n",
    "import csv\n",
    "import urllib2\n",
    "from bs4 import BeautifulSoup\n",
    "\n",
    "url = 'http://en.wikipedia.org/wiki/Comparison_of_text_editors'\n",
    "html = urllib2.urlopen(url)\n",
    "bsObj = BeautifulSoup(html)\n",
    "\n",
    "table = bsObj.findAll('table', {'class': 'wikitable'})[0]\n",
    "rows = table.findAll('tr')\n",
    "\n",
    "csvFile = open('editors.csv', 'wt')\n",
    "writer = csv.writer(csvFile)\n",
    "try:\n",
    "    for row in rows:\n",
    "        csvRow = []\n",
    "        for cell in row.findAll(['td', 'th']):\n",
    "            csvRow.append(cell.get_text())\n",
    "            writer.writerow(csvRow)\n",
    "finally:\n",
    "    csvFile.close()"
   ]
  },
  {
   "cell_type": "code",
   "execution_count": null,
   "metadata": {
    "collapsed": false,
    "scrolled": true
   },
   "outputs": [],
   "source": [
    "print len(bsObj.findAll('table', {'class': 'wikitable'}))\n",
    "print '--------------------------------------------------'\n",
    "print bsObj.findAll('table', {'class': 'wikitable'})[0].findAll('tr')"
   ]
  },
  {
   "cell_type": "code",
   "execution_count": null,
   "metadata": {
    "collapsed": false,
    "scrolled": true
   },
   "outputs": [],
   "source": [
    "rows = table.findAll('tr')\n",
    "\n",
    "for row in rows:\n",
    "    csvRow = []\n",
    "    for cell in row.findAll(['tr', 'th']):\n",
    "        csvRow.append(cell.get_text())\n",
    "        print csvRow"
   ]
  },
  {
   "cell_type": "markdown",
   "metadata": {
    "collapsed": false
   },
   "source": [
    "**MySQL**"
   ]
  },
  {
   "cell_type": "code",
   "execution_count": 9,
   "metadata": {
    "collapsed": false
   },
   "outputs": [
    {
     "ename": "OperationalError",
     "evalue": "(2003, \"Can't connect to MySQL server on 'localhost' ([Errno 2] No such file or directory)\")",
     "output_type": "error",
     "traceback": [
      "\u001b[0;31m---------------------------------------------------------------------------\u001b[0m",
      "\u001b[0;31mOperationalError\u001b[0m                          Traceback (most recent call last)",
      "\u001b[0;32m<ipython-input-9-edcce820cae3>\u001b[0m in \u001b[0;36m<module>\u001b[0;34m()\u001b[0m\n\u001b[1;32m      1\u001b[0m \u001b[0;32mimport\u001b[0m \u001b[0mpymysql\u001b[0m\u001b[0;34m\u001b[0m\u001b[0m\n\u001b[1;32m      2\u001b[0m \u001b[0;34m\u001b[0m\u001b[0m\n\u001b[0;32m----> 3\u001b[0;31m \u001b[0mconn\u001b[0m \u001b[0;34m=\u001b[0m \u001b[0mpymysql\u001b[0m\u001b[0;34m.\u001b[0m\u001b[0mconnect\u001b[0m\u001b[0;34m(\u001b[0m\u001b[0mhost\u001b[0m \u001b[0;34m=\u001b[0m \u001b[0;34m'localhost'\u001b[0m\u001b[0;34m,\u001b[0m \u001b[0munix_socket\u001b[0m \u001b[0;34m=\u001b[0m \u001b[0;34m'/temp/mysql.sock'\u001b[0m\u001b[0;34m,\u001b[0m \u001b[0muser\u001b[0m \u001b[0;34m=\u001b[0m \u001b[0;34m'root'\u001b[0m\u001b[0;34m,\u001b[0m \u001b[0mpasswd\u001b[0m \u001b[0;34m=\u001b[0m \u001b[0mNone\u001b[0m\u001b[0;34m,\u001b[0m \u001b[0mdb\u001b[0m \u001b[0;34m=\u001b[0m \u001b[0;34m'mysql'\u001b[0m\u001b[0;34m)\u001b[0m\u001b[0;34m\u001b[0m\u001b[0m\n\u001b[0m\u001b[1;32m      4\u001b[0m \u001b[0mcur\u001b[0m \u001b[0;34m=\u001b[0m \u001b[0mconn\u001b[0m\u001b[0;34m.\u001b[0m\u001b[0mcursor\u001b[0m\u001b[0;34m(\u001b[0m\u001b[0;34m)\u001b[0m\u001b[0;34m\u001b[0m\u001b[0m\n\u001b[1;32m      5\u001b[0m \u001b[0mcur\u001b[0m\u001b[0;34m.\u001b[0m\u001b[0mexecute\u001b[0m\u001b[0;34m(\u001b[0m\u001b[0;34m'USE scraping'\u001b[0m\u001b[0;34m)\u001b[0m\u001b[0;34m\u001b[0m\u001b[0m\n",
      "\u001b[0;32m/Applications/anaconda/lib/python2.7/site-packages/pymysql/__init__.pyc\u001b[0m in \u001b[0;36mConnect\u001b[0;34m(*args, **kwargs)\u001b[0m\n\u001b[1;32m     86\u001b[0m     \"\"\"\n\u001b[1;32m     87\u001b[0m     \u001b[0;32mfrom\u001b[0m \u001b[0;34m.\u001b[0m\u001b[0mconnections\u001b[0m \u001b[0;32mimport\u001b[0m \u001b[0mConnection\u001b[0m\u001b[0;34m\u001b[0m\u001b[0m\n\u001b[0;32m---> 88\u001b[0;31m     \u001b[0;32mreturn\u001b[0m \u001b[0mConnection\u001b[0m\u001b[0;34m(\u001b[0m\u001b[0;34m*\u001b[0m\u001b[0margs\u001b[0m\u001b[0;34m,\u001b[0m \u001b[0;34m**\u001b[0m\u001b[0mkwargs\u001b[0m\u001b[0;34m)\u001b[0m\u001b[0;34m\u001b[0m\u001b[0m\n\u001b[0m\u001b[1;32m     89\u001b[0m \u001b[0;34m\u001b[0m\u001b[0m\n\u001b[1;32m     90\u001b[0m \u001b[0;32mfrom\u001b[0m \u001b[0mpymysql\u001b[0m \u001b[0;32mimport\u001b[0m \u001b[0mconnections\u001b[0m \u001b[0;32mas\u001b[0m \u001b[0m_orig_conn\u001b[0m\u001b[0;34m\u001b[0m\u001b[0m\n",
      "\u001b[0;32m/Applications/anaconda/lib/python2.7/site-packages/pymysql/connections.pyc\u001b[0m in \u001b[0;36m__init__\u001b[0;34m(self, host, user, password, database, port, unix_socket, charset, sql_mode, read_default_file, conv, use_unicode, client_flag, cursorclass, init_command, connect_timeout, ssl, read_default_group, compress, named_pipe, no_delay, autocommit, db, passwd, local_infile)\u001b[0m\n\u001b[1;32m    642\u001b[0m         \u001b[0mself\u001b[0m\u001b[0;34m.\u001b[0m\u001b[0msql_mode\u001b[0m \u001b[0;34m=\u001b[0m \u001b[0msql_mode\u001b[0m\u001b[0;34m\u001b[0m\u001b[0m\n\u001b[1;32m    643\u001b[0m         \u001b[0mself\u001b[0m\u001b[0;34m.\u001b[0m\u001b[0minit_command\u001b[0m \u001b[0;34m=\u001b[0m \u001b[0minit_command\u001b[0m\u001b[0;34m\u001b[0m\u001b[0m\n\u001b[0;32m--> 644\u001b[0;31m         \u001b[0mself\u001b[0m\u001b[0;34m.\u001b[0m\u001b[0m_connect\u001b[0m\u001b[0;34m(\u001b[0m\u001b[0;34m)\u001b[0m\u001b[0;34m\u001b[0m\u001b[0m\n\u001b[0m\u001b[1;32m    645\u001b[0m \u001b[0;34m\u001b[0m\u001b[0m\n\u001b[1;32m    646\u001b[0m     \u001b[0;32mdef\u001b[0m \u001b[0mclose\u001b[0m\u001b[0;34m(\u001b[0m\u001b[0mself\u001b[0m\u001b[0;34m)\u001b[0m\u001b[0;34m:\u001b[0m\u001b[0;34m\u001b[0m\u001b[0m\n",
      "\u001b[0;32m/Applications/anaconda/lib/python2.7/site-packages/pymysql/connections.pyc\u001b[0m in \u001b[0;36m_connect\u001b[0;34m(self)\u001b[0m\n\u001b[1;32m    867\u001b[0m                 \u001b[0mexc\u001b[0m\u001b[0;34m.\u001b[0m\u001b[0mtraceback\u001b[0m \u001b[0;34m=\u001b[0m \u001b[0mtraceback\u001b[0m\u001b[0;34m.\u001b[0m\u001b[0mformat_exc\u001b[0m\u001b[0;34m(\u001b[0m\u001b[0;34m)\u001b[0m\u001b[0;34m\u001b[0m\u001b[0m\n\u001b[1;32m    868\u001b[0m                 \u001b[0;32mif\u001b[0m \u001b[0mDEBUG\u001b[0m\u001b[0;34m:\u001b[0m \u001b[0;32mprint\u001b[0m\u001b[0;34m(\u001b[0m\u001b[0mexc\u001b[0m\u001b[0;34m.\u001b[0m\u001b[0mtraceback\u001b[0m\u001b[0;34m)\u001b[0m\u001b[0;34m\u001b[0m\u001b[0m\n\u001b[0;32m--> 869\u001b[0;31m                 \u001b[0;32mraise\u001b[0m \u001b[0mexc\u001b[0m\u001b[0;34m\u001b[0m\u001b[0m\n\u001b[0m\u001b[1;32m    870\u001b[0m \u001b[0;34m\u001b[0m\u001b[0m\n\u001b[1;32m    871\u001b[0m             \u001b[0;31m# If e is neither DatabaseError or IOError, It's a bug.\u001b[0m\u001b[0;34m\u001b[0m\u001b[0;34m\u001b[0m\u001b[0m\n",
      "\u001b[0;31mOperationalError\u001b[0m: (2003, \"Can't connect to MySQL server on 'localhost' ([Errno 2] No such file or directory)\")"
     ]
    }
   ],
   "source": [
    "import pymysql\n",
    "\n",
    "conn = pymysql.connect(host = 'localhost', unix_socket = '/temp/mysql.sock', user = 'root', passwd = None, db = 'mysql')\n",
    "cur = conn.cursor()\n",
    "cur.execute('USE scraping')\n",
    "cur.execute('SELECT * FROM pages WHERE id=1')\n",
    "print cur.fetchone()\n",
    "cur.close()\n",
    "conn.close()"
   ]
  },
  {
   "cell_type": "markdown",
   "metadata": {},
   "source": [
    "### End of Chapter\n",
    "- **This book doesn't have good info on MySQL integration with Python**\n",
    "- **This book doesn't show how to set up a server running SMTP (Simple Mail Transfer Protocol) for sending email with Python**"
   ]
  },
  {
   "cell_type": "code",
   "execution_count": null,
   "metadata": {
    "collapsed": true
   },
   "outputs": [],
   "source": []
  }
 ],
 "metadata": {
  "kernelspec": {
   "display_name": "Python 2",
   "language": "python",
   "name": "python2"
  },
  "language_info": {
   "codemirror_mode": {
    "name": "ipython",
    "version": 2
   },
   "file_extension": ".py",
   "mimetype": "text/x-python",
   "name": "python",
   "nbconvert_exporter": "python",
   "pygments_lexer": "ipython2",
   "version": "2.7.10"
  }
 },
 "nbformat": 4,
 "nbformat_minor": 0
}
